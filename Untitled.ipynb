{
 "cells": [
  {
   "cell_type": "code",
   "execution_count": 14,
   "id": "2fdb60bf",
   "metadata": {},
   "outputs": [],
   "source": [
    "\n",
    "import pymysql\n",
    "import pandas as pd"
   ]
  },
  {
   "cell_type": "code",
   "execution_count": 15,
   "id": "faa44544",
   "metadata": {},
   "outputs": [],
   "source": [
    "conn= pymysql.connect(host='localhost', user='root', password='691209', db='sakila', charset='utf8')"
   ]
  },
  {
   "cell_type": "code",
   "execution_count": 16,
   "id": "b9ae9d3d",
   "metadata": {},
   "outputs": [
    {
     "name": "stdout",
     "output_type": "stream",
     "text": [
      "((1, 'English', datetime.datetime(2006, 2, 15, 5, 2, 19)), (2, 'Italian', datetime.datetime(2006, 2, 15, 5, 2, 19)), (3, 'Japanese', datetime.datetime(2006, 2, 15, 5, 2, 19)), (4, 'Mandarin', datetime.datetime(2006, 2, 15, 5, 2, 19)), (5, 'French', datetime.datetime(2006, 2, 15, 5, 2, 19)), (6, 'German', datetime.datetime(2006, 2, 15, 5, 2, 19)))\n",
      "   0         1                   2\n",
      "0  1   English 2006-02-15 05:02:19\n",
      "1  2   Italian 2006-02-15 05:02:19\n",
      "2  3  Japanese 2006-02-15 05:02:19\n",
      "3  4  Mandarin 2006-02-15 05:02:19\n",
      "4  5    French 2006-02-15 05:02:19\n",
      "5  6    German 2006-02-15 05:02:19\n"
     ]
    }
   ],
   "source": [
    "cur= conn.cursor()\n",
    "cur.execute('select * from language')\n",
    "rows=cur.fetchall()\n",
    "print(rows)\n",
    "language_df=pd.DataFrame(rows)\n",
    "print(language_df)\n",
    "\n",
    "cur.close()\n",
    "conn.close()"
   ]
  },
  {
   "cell_type": "code",
   "execution_count": 18,
   "id": "c3326e57",
   "metadata": {},
   "outputs": [
    {
     "name": "stdout",
     "output_type": "stream",
     "text": [
      "('CATHERINE.CAMPBELL@sakilacustomer.org',)\n",
      "('JOYCE.EDWARDS@sakilacustomer.org',)\n",
      "('AMBER.DIXON@sakilacustomer.org',)\n",
      "('JEANETTE.GREENE@sakilacustomer.org',)\n",
      "('MINNIE.ROMERO@sakilacustomer.org',)\n",
      "('GWENDOLYN.MAY@sakilacustomer.org',)\n",
      "('SONIA.GREGORY@sakilacustomer.org',)\n",
      "('MIRIAM.MCKINNEY@sakilacustomer.org',)\n",
      "('CHARLES.KOWALSKI@sakilacustomer.org',)\n",
      "('DANIEL.CABRAL@sakilacustomer.org',)\n",
      "('MATTHEW.MAHAN@sakilacustomer.org',)\n",
      "('JEFFERY.PINSON@sakilacustomer.org',)\n",
      "('HERMAN.DEVORE@sakilacustomer.org',)\n",
      "('ELMER.NOE@sakilacustomer.org',)\n",
      "('TERRANCE.ROUSH@sakilacustomer.org',)\n",
      "('TERRENCE.GUNDERSON@sakilacustomer.org',)\n"
     ]
    }
   ],
   "source": [
    "import pymysql\n",
    "conn= pymysql.connect(host='localhost', user='root', password='691209', db='sakila', charset='utf8')\n",
    "\n",
    "cur=conn.cursor()\n",
    "query=\"\"\"\n",
    "select c.email\n",
    "from customer as c\n",
    "inner join rental as r\n",
    "on c.customer_id = r.customer_id\n",
    "where date(r.rental_date)=(%s)\"\"\"\n",
    "\n",
    "cur.execute(query, ('2005-06-14'))\n",
    "rows=cur.fetchall()\n",
    "for row in rows:\n",
    "    print(row)\n",
    "cur.close()\n",
    "conn.close()"
   ]
  },
  {
   "cell_type": "code",
   "execution_count": null,
   "id": "b75dbae9",
   "metadata": {},
   "outputs": [],
   "source": [
    "curs=conn.cursor()\n",
    "\n",
    "sql=\"\"\"insert ito customer(name, category, region)\n",
    "values (%s, %s, %s)\"\"\"\n",
    "cur"
   ]
  }
 ],
 "metadata": {
  "kernelspec": {
   "display_name": "Python 3 (ipykernel)",
   "language": "python",
   "name": "python3"
  },
  "language_info": {
   "codemirror_mode": {
    "name": "ipython",
    "version": 3
   },
   "file_extension": ".py",
   "mimetype": "text/x-python",
   "name": "python",
   "nbconvert_exporter": "python",
   "pygments_lexer": "ipython3",
   "version": "3.9.12"
  }
 },
 "nbformat": 4,
 "nbformat_minor": 5
}
